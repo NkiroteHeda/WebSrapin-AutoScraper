{
 "cells": [
  {
   "cell_type": "markdown",
   "id": "047dde46",
   "metadata": {},
   "source": [
    "## Web Scraping using autoscaper\n",
    "\n",
    "The autoscraper is a smart , automatic lightweight web scraper for python"
   ]
  },
  {
   "cell_type": "code",
   "execution_count": 1,
   "id": "2bcc3463",
   "metadata": {},
   "outputs": [
    {
     "name": "stdout",
     "output_type": "stream",
     "text": [
      "Collecting autoscraper\n",
      "  Downloading autoscraper-1.1.12-py3-none-any.whl (10 kB)\n",
      "Requirement already satisfied: lxml in c:\\users\\admin\\anaconda3\\anacondanew\\lib\\site-packages (from autoscraper) (4.8.0)\n",
      "Requirement already satisfied: requests in c:\\users\\admin\\anaconda3\\anacondanew\\lib\\site-packages (from autoscraper) (2.27.1)\n",
      "Collecting bs4\n",
      "  Downloading bs4-0.0.1.tar.gz (1.1 kB)\n",
      "Requirement already satisfied: beautifulsoup4 in c:\\users\\admin\\anaconda3\\anacondanew\\lib\\site-packages (from bs4->autoscraper) (4.11.1)\n",
      "Requirement already satisfied: soupsieve>1.2 in c:\\users\\admin\\anaconda3\\anacondanew\\lib\\site-packages (from beautifulsoup4->bs4->autoscraper) (2.3.1)\n",
      "Requirement already satisfied: certifi>=2017.4.17 in c:\\users\\admin\\anaconda3\\anacondanew\\lib\\site-packages (from requests->autoscraper) (2021.10.8)\n",
      "Requirement already satisfied: charset-normalizer~=2.0.0 in c:\\users\\admin\\anaconda3\\anacondanew\\lib\\site-packages (from requests->autoscraper) (2.0.4)\n",
      "Requirement already satisfied: urllib3<1.27,>=1.21.1 in c:\\users\\admin\\anaconda3\\anacondanew\\lib\\site-packages (from requests->autoscraper) (1.26.9)\n",
      "Requirement already satisfied: idna<4,>=2.5 in c:\\users\\admin\\anaconda3\\anacondanew\\lib\\site-packages (from requests->autoscraper) (3.3)\n",
      "Building wheels for collected packages: bs4\n",
      "  Building wheel for bs4 (setup.py): started\n",
      "  Building wheel for bs4 (setup.py): finished with status 'done'\n",
      "  Created wheel for bs4: filename=bs4-0.0.1-py3-none-any.whl size=1272 sha256=be701330e913ed6627b6d97cb962348881fefcff9907182a78e57a39d92a30c2\n",
      "  Stored in directory: c:\\users\\admin\\appdata\\local\\pip\\cache\\wheels\\73\\2b\\cb\\099980278a0c9a3e57ff1a89875ec07bfa0b6fcbebb9a8cad3\n",
      "Successfully built bs4\n",
      "Installing collected packages: bs4, autoscraper\n",
      "Successfully installed autoscraper-1.1.12 bs4-0.0.1\n"
     ]
    }
   ],
   "source": [
    "#install the autoscraper first\n",
    "!pip install autoscraper"
   ]
  },
  {
   "cell_type": "code",
   "execution_count": 7,
   "id": "2bb70063",
   "metadata": {},
   "outputs": [],
   "source": [
    "#import the autoscraper\n",
    "from autoscraper import AutoScraper"
   ]
  },
  {
   "cell_type": "code",
   "execution_count": 10,
   "id": "8878ad23",
   "metadata": {},
   "outputs": [],
   "source": [
    "#add the url you want to scrape from \n",
    "amazon_url= 'https://www.amazon.com/s?k=headphones'\n",
    "#add the list of items you want to scrape from the page, in this case  I will add: Prices, title and rating.\n",
    "wanted_list= ['$42.99',' 8,930','OneOdio A70 Bluetooth Over Ear Headphones, Wireless Headphones with 72H Playtime, Shareport, Foldable, 3.5mm/6.35mm Stereo Jack for Guitar Amp Computer PC Tablet Home Office Travel']"
   ]
  },
  {
   "cell_type": "code",
   "execution_count": 11,
   "id": "d4c230f4",
   "metadata": {},
   "outputs": [
    {
     "name": "stdout",
     "output_type": "stream",
     "text": [
      "['$59.99', '$26.99', '$35.99', '$25.49', '$29.99', '$31.99', '$42.99', '$32.99', '$99.99', '$28.89', '$39.99', '$36.99', '7,418', '13,292', '22,041', '33,367', '8,930', '2,729', '509', '6,870', '66,419', 'Srhythm NC25 Active Noise Cancelling Headphones Bluetooth 5.0,ANC Stereo Headset Over-Ear with Hi-Fi,Mic,50H Playtime,Voice Assistant,Low Latency Game Mode', 'TUINYO Wireless Headphones Over Ear, Bluetooth Headphones with Microphone, Foldable Stereo Wireless Headset-Rose Gold', 'Donerton Wireless Earbuds, Bluetooth 5.0 Headphones IP8 Waterproof Earbuds, 80 Playtime, in Ear Earphones with Mic, Deep Bass 3D Stereo, Charging Case, Sports, Work Out, Easy Pairing', 'OneOdio Wired Over Ear Headphones Studio Monitor & Mixing DJ Stereo Headsets with 50mm Neodymium Drivers and 1/4 to 3.5mm Audio Jack for AMP Computer Recording Phone Piano Guitar Laptop - Black', 'OneOdio A70 Bluetooth Over Ear Headphones, Wireless Headphones with 72H Playtime, Shareport, Foldable, 3.5mm/6.35mm Stereo Jack for Guitar Amp Computer PC Tablet Home Office Travel', 'Sports Wireless Earbuds, Hadisala Bluetooth 5.1 Ear-Hooks Headphones with Mic Deep Bass, IPX7 Waterproof Noise Reduction LED Display in Ear Earphone, 50H Playtime with Charging Case for Gym Running', 'Bulk Classroom Headphones (10 Pack) - On-Ear Premium Student Headsets: Perfect for Kids K-12 in Classrooms, Schools & Class Sets (Great Value, Durable, Noise Reducing, Comfortable Fit, Easy to Clean)', 'Bluetooth Headphones Wireless, pollini 40H Playtime Foldable Over Ear Headphones with Microphone, Deep Bass Stereo Headset with Soft Memory-Protein Earmuffs for iPhone/Android Cell Phone/PC (Black)', 'Bluetooth Headphones Over-Ear, Zihnic Foldable Wireless and Wired Stereo Headset Micro SD/TF, FM for Cell Phone,PC,Soft Earmuffs &Light Weight for Prolonged Wearing (Black/Blue)']\n"
     ]
    }
   ],
   "source": [
    "#initialize scraper\n",
    "scraper= AutoScraper()\n",
    "#asign the results of scraping to result\n",
    "result=scraper.build(amazon_url,wanted_list)\n",
    "#print the results\n",
    "print(result)"
   ]
  },
  {
   "cell_type": "markdown",
   "id": "529ae918",
   "metadata": {},
   "source": [
    "# update\n",
    "\n",
    ">this is the entire information that has been scraped from that specific web page\n",
    ">now i need to group it, to prices , ratings and titles differently"
   ]
  },
  {
   "cell_type": "code",
   "execution_count": 12,
   "id": "208d8e1e",
   "metadata": {},
   "outputs": [
    {
     "data": {
      "text/plain": [
       "{'rule_71qf': ['$59.99',\n",
       "  '$26.99',\n",
       "  '$35.99',\n",
       "  '$25.49',\n",
       "  '$29.99',\n",
       "  '$31.99',\n",
       "  '$42.99',\n",
       "  '$32.99'],\n",
       " 'rule_jv3v': ['$59.99',\n",
       "  '$26.99',\n",
       "  '$35.99',\n",
       "  '$25.49',\n",
       "  '$29.99',\n",
       "  '$31.99',\n",
       "  '$42.99',\n",
       "  '$32.99'],\n",
       " 'rule_qtrs': ['$99.99', '$42.99', '$28.89', '$39.99', '$26.99', '$36.99'],\n",
       " 'rule_4la5': ['$99.99', '$42.99', '$28.89', '$39.99', '$26.99', '$36.99'],\n",
       " 'rule_dxd8': ['7,418', '13,292', '22,041', '33,367', '8,930', '2,729'],\n",
       " 'rule_v1o9': ['509', '8,930', '6,870', '66,419'],\n",
       " 'rule_eprp': ['Srhythm NC25 Active Noise Cancelling Headphones Bluetooth 5.0,ANC Stereo Headset Over-Ear with Hi-Fi,Mic,50H Playtime,Voice Assistant,Low Latency Game Mode',\n",
       "  'TUINYO Wireless Headphones Over Ear, Bluetooth Headphones with Microphone, Foldable Stereo Wireless Headset-Rose Gold',\n",
       "  'Donerton Wireless Earbuds, Bluetooth 5.0 Headphones IP8 Waterproof Earbuds, 80 Playtime, in Ear Earphones with Mic, Deep Bass 3D Stereo, Charging Case, Sports, Work Out, Easy Pairing',\n",
       "  'OneOdio Wired Over Ear Headphones Studio Monitor & Mixing DJ Stereo Headsets with 50mm Neodymium Drivers and 1/4 to 3.5mm Audio Jack for AMP Computer Recording Phone Piano Guitar Laptop - Black',\n",
       "  'OneOdio A70 Bluetooth Over Ear Headphones, Wireless Headphones with 72H Playtime, Shareport, Foldable, 3.5mm/6.35mm Stereo Jack for Guitar Amp Computer PC Tablet Home Office Travel',\n",
       "  'Sports Wireless Earbuds, Hadisala Bluetooth 5.1 Ear-Hooks Headphones with Mic Deep Bass, IPX7 Waterproof Noise Reduction LED Display in Ear Earphone, 50H Playtime with Charging Case for Gym Running'],\n",
       " 'rule_58k4': ['Bulk Classroom Headphones (10 Pack) - On-Ear Premium Student Headsets: Perfect for Kids K-12 in Classrooms, Schools & Class Sets (Great Value, Durable, Noise Reducing, Comfortable Fit, Easy to Clean)',\n",
       "  'OneOdio A70 Bluetooth Over Ear Headphones, Wireless Headphones with 72H Playtime, Shareport, Foldable, 3.5mm/6.35mm Stereo Jack for Guitar Amp Computer PC Tablet Home Office Travel',\n",
       "  'Bluetooth Headphones Wireless, pollini 40H Playtime Foldable Over Ear Headphones with Microphone, Deep Bass Stereo Headset with Soft Memory-Protein Earmuffs for iPhone/Android Cell Phone/PC (Black)',\n",
       "  'Bluetooth Headphones Over-Ear, Zihnic Foldable Wireless and Wired Stereo Headset Micro SD/TF, FM for Cell Phone,PC,Soft Earmuffs &Light Weight for Prolonged Wearing (Black/Blue)']}"
      ]
     },
     "execution_count": 12,
     "metadata": {},
     "output_type": "execute_result"
    }
   ],
   "source": [
    "#group the info\n",
    "scraper.get_result_similar(amazon_url,grouped= True)"
   ]
  },
  {
   "cell_type": "code",
   "execution_count": 13,
   "id": "5961ed2a",
   "metadata": {},
   "outputs": [
    {
     "name": "stdout",
     "output_type": "stream",
     "text": [
      "['$789.00', '$339.00', '$709.00', '$889.00', '$939.00', '$1,064.00', '$1,099.00', '$219.99', '$489.00', '$769.00', '$749.99', '$589.00', '$199.00', '1,009', '46,607', '11', '43', '33', '24', '4,851', '41', '1,226', '117', '86', '6', '127', '715', '47,277', '44,403', 'Apple iPhone 12 Pro, 128GB, Gold - Unlocked (Renewed Premium)', 'Apple iPhone XR, 64GB, White - Unlocked (Renewed Premium)', 'Apple iPhone 12, 64GB, Red - Unlocked (Renewed Premium)', 'Apple iPhone 12 Pro Max, 128GB, Gold - Unlocked (Renewed Premium)', 'Apple iPhone 12 Pro Max, 256GB, Gold - Unlocked (Renewed Premium)', 'Apple iPhone 12 Pro Max, 512GB, Pacific Blue - Unlocked (Renewed Premium)', 'Apple iPhone SE (2nd Generation), 64GB, Red - Unlocked (Renewed)', 'Apple iPhone 12 Pro Max, 128GB, Graphite - Unlocked (Renewed Premium)', 'Apple iPhone 11, 64GB, Purple - Unlocked (Renewed Premium)', 'Apple iPhone 12 Pro Max, 128GB, Pacific Blue - Unlocked (Renewed Premium)', 'Apple iPhone 12 Pro Max, 256GB, Pacific Blue - Unlocked (Renewed Premium)', 'Apple iPhone 12, 128GB, Red - Unlocked (Renewed Premium)', 'Apple iPhone 13, 128GB, Pink - Verizon (Renewed)', 'Apple iPhone 11 Pro, 64GB, Space Gray - Unlocked (Renewed Premium)', 'Apple iPhone 7, US Version, 256GB, Black - Unlocked (Renewed)', 'Apple iPhone 8, US Version, 64GB, Space Gray - Unlocked (Renewed)']\n"
     ]
    }
   ],
   "source": [
    "#try the scraping again with iphones instead of headphones\n",
    "iphones_url='https://www.amazon.com/s?k=iphones'\n",
    "wanted_info=['$789.00','1,009','Apple iPhone 12 Pro, 128GB, Gold - Unlocked (Renewed Premium)']\n",
    "results_iphone= scraper.build(iphones_url,wanted_info)\n",
    "print(results_iphone)"
   ]
  },
  {
   "cell_type": "code",
   "execution_count": 14,
   "id": "a81ed225",
   "metadata": {},
   "outputs": [
    {
     "data": {
      "text/plain": [
       "{'rule_gbze': ['$789.00',\n",
       "  '$339.00',\n",
       "  '$889.00',\n",
       "  '$219.99',\n",
       "  '$709.00',\n",
       "  '$939.00',\n",
       "  '$1,064.00',\n",
       "  '$1,099.00',\n",
       "  '$489.00',\n",
       "  '$889.00',\n",
       "  '$199.00',\n",
       "  '$939.00',\n",
       "  '$1,029.99',\n",
       "  '$889.00',\n",
       "  '$749.99',\n",
       "  '$250.00'],\n",
       " 'rule_wfgy': ['$789.00',\n",
       "  '$339.00',\n",
       "  '$889.00',\n",
       "  '$219.99',\n",
       "  '$709.00',\n",
       "  '$939.00',\n",
       "  '$1,064.00',\n",
       "  '$1,099.00',\n",
       "  '$489.00',\n",
       "  '$889.00',\n",
       "  '$199.00',\n",
       "  '$939.00',\n",
       "  '$1,029.99',\n",
       "  '$889.00',\n",
       "  '$749.99',\n",
       "  '$250.00'],\n",
       " 'rule_0gdr': ['1,009',\n",
       "  '46,607',\n",
       "  '43',\n",
       "  '4,851',\n",
       "  '44,403',\n",
       "  '11',\n",
       "  '33',\n",
       "  '24',\n",
       "  '1,226',\n",
       "  '117',\n",
       "  '47,277',\n",
       "  '86',\n",
       "  '59',\n",
       "  '41',\n",
       "  '127',\n",
       "  '15,360'],\n",
       " 'rule_7tir': ['Apple iPhone 12 Pro, 128GB, Gold - Unlocked (Renewed Premium)',\n",
       "  'Apple iPhone XR, 64GB, White - Unlocked (Renewed Premium)',\n",
       "  'Apple iPhone 12 Pro Max, 128GB, Gold - Unlocked (Renewed Premium)',\n",
       "  'Apple iPhone SE (2nd Generation), 64GB, Red - Unlocked (Renewed)',\n",
       "  'Apple iPhone 8, US Version, 64GB, Space Gray - Unlocked (Renewed)',\n",
       "  'Apple iPhone 12, 64GB, Red - Unlocked (Renewed Premium)',\n",
       "  'Apple iPhone 12 Pro Max, 256GB, Gold - Unlocked (Renewed Premium)',\n",
       "  'Apple iPhone 12 Pro Max, 512GB, Pacific Blue - Unlocked (Renewed Premium)',\n",
       "  'Apple iPhone 11, 64GB, Purple - Unlocked (Renewed Premium)',\n",
       "  'Apple iPhone 12 Pro Max, 128GB, Pacific Blue - Unlocked (Renewed Premium)',\n",
       "  'Apple iPhone 7, US Version, 256GB, Black - Unlocked (Renewed)',\n",
       "  'Apple iPhone 12 Pro Max, 256GB, Pacific Blue - Unlocked (Renewed Premium)',\n",
       "  'Apple iPhone 13 Pro Max, 128GB, Sierra Blue - Verizon (Renewed)',\n",
       "  'Apple iPhone 12 Pro Max, 128GB, Graphite - Unlocked (Renewed Premium)',\n",
       "  'Apple iPhone 13, 128GB, Midnight - Verizon (Renewed)',\n",
       "  'Apple iPhone XS, US Version, 64GB, Space Gray - Unlocked (Renewed)'],\n",
       " 'rule_dqzx': ['Apple iPhone 12 Pro, 128GB, Gold - Unlocked (Renewed Premium)',\n",
       "  'Apple iPhone XR, 64GB, White - Unlocked (Renewed Premium)',\n",
       "  'Apple iPhone 12 Pro Max, 128GB, Gold - Unlocked (Renewed Premium)',\n",
       "  'Apple iPhone SE (2nd Generation), 64GB, Red - Unlocked (Renewed)',\n",
       "  'Apple iPhone 8, US Version, 64GB, Space Gray - Unlocked (Renewed)',\n",
       "  'Apple iPhone 12, 64GB, Red - Unlocked (Renewed Premium)',\n",
       "  'Apple iPhone 12 Pro Max, 256GB, Gold - Unlocked (Renewed Premium)',\n",
       "  'Apple iPhone 12 Pro Max, 512GB, Pacific Blue - Unlocked (Renewed Premium)',\n",
       "  'Apple iPhone 11, 64GB, Purple - Unlocked (Renewed Premium)',\n",
       "  'Apple iPhone 12 Pro Max, 128GB, Pacific Blue - Unlocked (Renewed Premium)',\n",
       "  'Apple iPhone 7, US Version, 256GB, Black - Unlocked (Renewed)',\n",
       "  'Apple iPhone 12 Pro Max, 256GB, Pacific Blue - Unlocked (Renewed Premium)',\n",
       "  'Apple iPhone 13 Pro Max, 128GB, Sierra Blue - Verizon (Renewed)',\n",
       "  'Apple iPhone 12 Pro Max, 128GB, Graphite - Unlocked (Renewed Premium)',\n",
       "  'Apple iPhone 13, 128GB, Midnight - Verizon (Renewed)',\n",
       "  'Apple iPhone XS, US Version, 64GB, Space Gray - Unlocked (Renewed)']}"
      ]
     },
     "execution_count": 14,
     "metadata": {},
     "output_type": "execute_result"
    }
   ],
   "source": [
    "#group the info\n",
    "scraper.get_result_similar(iphones_url,grouped= True)"
   ]
  },
  {
   "cell_type": "code",
   "execution_count": 15,
   "id": "0012f92d",
   "metadata": {},
   "outputs": [],
   "source": [
    "#set the rule to titles, copy the rule from the results, each rule has the specific info, rule for titles, prices and rating,\n",
    "#the code below uses the rule for the products title and assigns it to Title\n",
    "scraper.set_rule_aliases({'rule_7tir':'Title'})\n",
    "#the code below saves the rules incase i need to use it again for other pages\n",
    "scraper.keep_rules(['rule_7tir'])\n",
    "scraper.save('amazon_search')"
   ]
  },
  {
   "cell_type": "code",
   "execution_count": 20,
   "id": "d8745f49",
   "metadata": {},
   "outputs": [
    {
     "data": {
      "text/plain": [
       "['Xiaomi Mi 11i | 128GB 8GB RAM | Factory Unlocked (GSM ONLY | Not Compatible with Verizon/Sprint/Boost) | International Model (Cosmic Black)',\n",
       " 'Xiaomi Mi 10T - Smartphone 6 GB + 128 GB, Dual Sim, Alexa Hands-Free, Nero (Cosmic Black)',\n",
       " 'Xiaomi Mi Note 10 Lite Smartphone - 6.47′′, 3D Curved AMOLED Display, 6 GB + 64 GB, AI Quad Camera, 5260 mAhm, Porpora (Nebula Purple)',\n",
       " 'Xiaomi Mi 11 Lite (128GB, 6GB) 6.55” 90HZ AMOLED, 64MP Triple Camera, Snapdragon 732G, Dual SIM GSM Unlocked (US + Global) 4G LTE International Version (Fast Car Charger Bundle, Bubblegum Blue)',\n",
       " 'Xiaomi Mi Note 10 Lite Smartphone - 6.47′′, 3D Curved AMOLED Display, 6 GB + 64 GB, AI Quad Caméra, 5260 mAh, Bianco (Glacier White)',\n",
       " 'PRO Grade Car Charger Compatible with Your Xiaomi Mi Note + Tangle Free MicroUSB Cord! Two Piece kit Offers More Choices and Compatibility!',\n",
       " 'PRO Grade Car Charger Compatible with Your Spice Mobile Mi-504 + Tangle Free MicroUSB Cord! Two Piece kit Offers More Choices and Compatibility!',\n",
       " 'PRO Grade Car Charger Compatible with Your Spice Mobile Mi-497 + Tangle Free MicroUSB Cord! Two Piece kit Offers More Choices and Compatibility!',\n",
       " 'PRO Grade Car Charger Compatible with Your Spice Mobile Mi-449 + Tangle Free MicroUSB Cord! Two Piece kit Offers More Choices and Compatibility!',\n",
       " 'PRO Grade Car Charger Compatible with Your Spice Mobile Mi-436 + Tangle Free MicroUSB Cord! Two Piece kit Offers More Choices and Compatibility!',\n",
       " 'PRO Grade Car Charger Compatible with Your Spice Mobile Mi-354 + Tangle Free MicroUSB Cord! Two Piece kit Offers More Choices and Compatibility!',\n",
       " 'PRO Grade Car Charger Compatible with Your Xiaomi Mi 4i + Tangle Free MicroUSB Cord! Two Piece kit Offers More Choices and Compatibility!',\n",
       " 'Xiaomi Mi 10T - Smartphone, 6 GB + 128 GB, Dual Sim, Alexa Hands-Free, Grigio (Lunar Silver)',\n",
       " 'Xiaomi Mi 11 Lite 5G + 4G LTE Volte Global Unlocked GSM 128GB + 6GB 64MP Triple Camera Worldwide GSM (Truffle Black)',\n",
       " 'Xiaomi Mi 11 Lite (128GB, 6GB) 6.55” Dual SIM GSM Unlocked 4G LTE International Version (Bubblegum Blue)',\n",
       " 'Xiaomi Redmi 9A - Smartphone 2 GB + 32 GB, Dual Sim, Grigio (Granite Grey)']"
      ]
     },
     "execution_count": 20,
     "metadata": {},
     "output_type": "execute_result"
    }
   ],
   "source": [
    "#use a new link to get the similar results on titles, group by alias \n",
    "#save the results and print them out to view\n",
    "result_new_link=scraper.get_result_similar('https://www.amazon.com/s?k=mi+phones',group_by_alias= True)\n",
    "result_new_link['Title']"
   ]
  },
  {
   "cell_type": "markdown",
   "id": "00859d36",
   "metadata": {},
   "source": [
    "# first\n",
    "> This was my first experience using the AutoScraper , guided by Krish Naik on Youtube"
   ]
  },
  {
   "cell_type": "code",
   "execution_count": null,
   "id": "08c023ff",
   "metadata": {},
   "outputs": [],
   "source": []
  }
 ],
 "metadata": {
  "kernelspec": {
   "display_name": "Python 3 (ipykernel)",
   "language": "python",
   "name": "python3"
  },
  "language_info": {
   "codemirror_mode": {
    "name": "ipython",
    "version": 3
   },
   "file_extension": ".py",
   "mimetype": "text/x-python",
   "name": "python",
   "nbconvert_exporter": "python",
   "pygments_lexer": "ipython3",
   "version": "3.9.12"
  }
 },
 "nbformat": 4,
 "nbformat_minor": 5
}
